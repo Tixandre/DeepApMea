{
 "cells": [
  {
   "cell_type": "code",
   "execution_count": null,
   "metadata": {},
   "outputs": [],
   "source": [
    "import h5py\n",
    "import os\n",
    "import numpy as np\n",
    "import pandas as pd\n",
    "%matplotlib inline\n",
    "import tensorflow as tf\n",
    "from keras.models import Model\n",
    "from joblib import Parallel, delayed\n",
    "import joblib"
   ]
  },
  {
   "cell_type": "markdown",
   "metadata": {},
   "source": [
    "## H5 Extraction functions"
   ]
  },
  {
   "cell_type": "code",
   "execution_count": null,
   "metadata": {},
   "outputs": [],
   "source": [
    "N_ELECTRODES = 32\n",
    "CUT_OFF = 120"
   ]
  },
  {
   "cell_type": "code",
   "execution_count": null,
   "metadata": {},
   "outputs": [],
   "source": [
    "if os.path.exists(\"denoising_Dense_1.h5\"):\n",
    "    autoencoder = tf.keras.models.load_model('denoising_Dense_1.h5')\n",
    "    output_layer = (autoencoder.layers[-11].output)\n",
    "    encoder = Model(autoencoder.input, output_layer)\n",
    "    encoder.summary()\n"
   ]
  },
  {
   "cell_type": "code",
   "execution_count": null,
   "metadata": {},
   "outputs": [],
   "source": [
    "if os.path.exists(\"Classifier_cnn.h5\"):\n",
    "    model = tf.keras.models.load_model('Classifier_cnn.h5')"
   ]
  },
  {
   "cell_type": "code",
   "execution_count": null,
   "metadata": {},
   "outputs": [],
   "source": [
    "with h5py.File('./Post TBI 2/2022-11-23T16-42-00_SpikeOnChip_SPOC1_Data_Clean.h5', \"r+\") as f:\n",
    "    for i in range(N_ELECTRODES):\n",
    "        print(f'\\nNum electrode : {i}')\n",
    "        dset = f[f'SpikeWindow-0.{i}']\n",
    "        stmp = f[f'SpikeTimestamp-0.{i}']\n",
    "\n",
    "        if(dset.shape[0] != 0):\n",
    "            sp = np.empty((dset.shape[0],CUT_OFF),dset.dtype)\n",
    "\n",
    "            for idx,spke in enumerate(dset):\n",
    "                sp[idx] = (spke[0:CUT_OFF])\n",
    "        \n",
    "            test = pd.DataFrame(sp)\n",
    "            test_encode = encoder.predict(test)\n",
    "            predict = model.predict(test_encode).round()\n",
    "            print('Results')\n",
    "            print(f'Spike predicted : {np.count_nonzero(predict == 1)}')\n",
    "            print(f'Noise predicted : {np.count_nonzero(predict == 0)}')\n",
    "\n",
    "            res = np.where(predict == 1)[0].tolist()\n",
    "\n",
    "            indx = 0\n",
    "            test_spike_windows = np.empty((len(res),dset.shape[1]),dset.dtype)\n",
    "            for idx,row in enumerate(dset):\n",
    "                if(idx in res):\n",
    "                    test_spike_windows[indx] = row\n",
    "                    indx += 1\n",
    "\n",
    "            indx = 0\n",
    "            test_spike_timestamp = np.empty((len(res),stmp.shape[1]),stmp.dtype)\n",
    "            for idx,row in enumerate(stmp):\n",
    "                if(idx in res):\n",
    "                    test_spike_timestamp[indx] = row\n",
    "                    indx += 1\n",
    "\n",
    "            del f[f'SpikeWindow-0.{i}']\n",
    "            f.create_dataset(f'SpikeWindow-0.{i}',data=test_spike_windows)\n",
    "\n",
    "            del f[f'SpikeTimestamp-0.{i}']\n",
    "            f.create_dataset(f'SpikeTimestamp-0.{i}',data=test_spike_timestamp)\n",
    "        else:\n",
    "            print(\"No spike found on this electrode\")\n",
    "    f.close()\n"
   ]
  }
 ],
 "metadata": {
  "celltoolbar": "Aucun(e)",
  "kernelspec": {
   "display_name": "Python 3.9.12 ('base')",
   "language": "python",
   "name": "python3"
  },
  "language_info": {
   "codemirror_mode": {
    "name": "ipython",
    "version": 3
   },
   "file_extension": ".py",
   "mimetype": "text/x-python",
   "name": "python",
   "nbconvert_exporter": "python",
   "pygments_lexer": "ipython3",
   "version": "3.9.12"
  },
  "vscode": {
   "interpreter": {
    "hash": "937fe4b5d9b071df378a454ac50205e265fd9fba8afe26b93261d5b99b0f19da"
   }
  }
 },
 "nbformat": 4,
 "nbformat_minor": 2
}
